{
 "cells": [
  {
   "cell_type": "code",
   "execution_count": 4,
   "metadata": {},
   "outputs": [],
   "source": [
    "from minio import Minio\n",
    "import pandas as pd\n",
    "from io import BytesIO"
   ]
  },
  {
   "cell_type": "code",
   "execution_count": 12,
   "metadata": {},
   "outputs": [],
   "source": [
    "minioClient = Minio('localhost:9000',\n",
    "                  access_key='minio',\n",
    "                  secret_key='minio123',\n",
    "                  secure=False)"
   ]
  },
  {
   "cell_type": "code",
   "execution_count": 19,
   "metadata": {},
   "outputs": [],
   "source": [
    "obj = minioClient.get_object('sample', 'VSE_25to05.csv')"
   ]
  },
  {
   "cell_type": "code",
   "execution_count": 20,
   "metadata": {},
   "outputs": [],
   "source": [
    "df = pd.read_csv(obj, header=None)"
   ]
  },
  {
   "cell_type": "code",
   "execution_count": 21,
   "metadata": {},
   "outputs": [
    {
     "name": "stdout",
     "output_type": "stream",
     "text": [
      "                          0   1   2                           3   4   5   6   \\\n",
      "0        2020-07-24 15:03:00 NaN NaN  UNH3klp1prcu0000.novalocal NaN NaN   1   \n",
      "1        2020-07-24 15:03:00 NaN NaN  UNH3klp1prcu0000.novalocal NaN NaN   1   \n",
      "2        2020-07-24 15:03:00 NaN NaN  UNH3klp1prcu0000.novalocal NaN NaN   1   \n",
      "3        2020-07-24 15:03:00 NaN NaN  UNH3klp1prcu0000.novalocal NaN NaN   1   \n",
      "4        2020-07-24 15:03:00 NaN NaN  UNH3klp1prcu0000.novalocal NaN NaN   1   \n",
      "...                      ...  ..  ..                         ...  ..  ..  ..   \n",
      "2201468  2020-08-05 00:04:00 NaN NaN  UNH3klp1prcu0000.novalocal NaN NaN   1   \n",
      "2201469  2020-08-05 00:04:00 NaN NaN  UNH3klp1prcu0000.novalocal NaN NaN   1   \n",
      "2201470  2020-08-05 00:04:00 NaN NaN  UNH3klp1prcu0000.novalocal NaN NaN   1   \n",
      "2201471  2020-08-05 00:04:00 NaN NaN  UNH3klp1prcu0000.novalocal NaN NaN   1   \n",
      "2201472  2020-08-05 00:04:00 NaN NaN  UNH3klp1prcu0000.novalocal NaN NaN   1   \n",
      "\n",
      "                        7             8                        9   ...  \\\n",
      "0        17021454700773377  4.401100e+14   2020-07-24 15:00:02.68  ...   \n",
      "1        17021454700773377  4.401100e+14  2020-07-24 15:00:02.689  ...   \n",
      "2        17021454700773377  4.401100e+14   2020-07-24 15:00:07.29  ...   \n",
      "3        17021454700773377  4.401100e+14  2020-07-24 15:00:10.889  ...   \n",
      "4        17021454700773377  4.401100e+14   2020-07-24 15:00:14.98  ...   \n",
      "...                    ...           ...                      ...  ...   \n",
      "2201468  17025851405107298  4.401100e+14  2020-08-04 23:59:31.211  ...   \n",
      "2201469  17025851405107409  4.401100e+14  2020-08-04 23:59:42.683  ...   \n",
      "2201470  17025851405107409  4.401100e+14  2020-08-04 23:59:47.203  ...   \n",
      "2201471  17025851405107447  4.401100e+14  2020-08-04 23:59:52.603  ...   \n",
      "2201472  17025851405107447  4.401100e+14  2020-08-04 23:59:57.123  ...   \n",
      "\n",
      "                       45   46                 47                       48  \\\n",
      "0        44f0110000d70001   16   5630118315254608  240b:c0e9:1221:1020::11   \n",
      "1        44f0110000d70001   16   5630118315254609  240b:c0e9:1221:1020::11   \n",
      "2        44f0110000d70001   16   5630118315254613  240b:c0e9:1221:1020::11   \n",
      "3        44f0110000d70001   16   5630118315254615  240b:c0e9:1221:1020::11   \n",
      "4        44f0110000d70001   16   5630118315254617  240b:c0e9:1221:1020::11   \n",
      "...                   ...  ...                ...                      ...   \n",
      "2201468  44f01100020455ae  202  77688243637098499   240b:c0e9:1221:1020::5   \n",
      "2201469  44f0110002041daa  202  77688243637098504   240b:c0e9:1221:1020::5   \n",
      "2201470  44f0110002041daa  202  77688243637098505   240b:c0e9:1221:1020::5   \n",
      "2201471  44f0110002041dab  202  77688243637098508   240b:c0e9:1221:1020::5   \n",
      "2201472  44f0110002041dab  202  77688243637098509   240b:c0e9:1221:1020::5   \n",
      "\n",
      "             49  50    51  52  \\\n",
      "0           NaN   4  09aa NaN   \n",
      "1           NaN   4  09aa NaN   \n",
      "2           NaN   4  09aa NaN   \n",
      "3           NaN   4  09aa NaN   \n",
      "4           NaN   4  09aa NaN   \n",
      "...         ...  ..   ...  ..   \n",
      "2201468  440-11   3  0962 NaN   \n",
      "2201469     NaN   3  06df NaN   \n",
      "2201470  440-11   3  06df NaN   \n",
      "2201471     NaN   3  06fe NaN   \n",
      "2201472  440-11   3  06fe NaN   \n",
      "\n",
      "                                                        53  54  \n",
      "0        http://[240b:c0e0:101:556b::11d]:4008/id=17021...   0  \n",
      "1        http://[240b:c0e0:101:556b::11d]:4008/id=17021...   0  \n",
      "2        http://[240b:c0e0:101:556b::11d]:4008/id=17021...   0  \n",
      "3        http://[240b:c0e0:101:556b::11d]:4008/id=17021...   0  \n",
      "4        http://[240b:c0e0:101:556b::11d]:4008/id=17021...   0  \n",
      "...                                                    ...  ..  \n",
      "2201468  http://[240b:c0e0:101:556b::11d]:4008/id=17025...   0  \n",
      "2201469  http://[240b:c0e0:101:556b::11d]:4008/id=17025...   8  \n",
      "2201470  http://[240b:c0e0:101:556b::11d]:4008/id=17025...   0  \n",
      "2201471  http://[240b:c0e0:101:556b::11d]:4008/id=17025...   8  \n",
      "2201472  http://[240b:c0e0:101:556b::11d]:4008/id=17025...   0  \n",
      "\n",
      "[2201473 rows x 55 columns]\n"
     ]
    }
   ],
   "source": [
    "print(df)"
   ]
  },
  {
   "cell_type": "code",
   "execution_count": null,
   "metadata": {},
   "outputs": [],
   "source": []
  }
 ],
 "metadata": {
  "kernelspec": {
   "display_name": "Python 3",
   "language": "python",
   "name": "python3"
  },
  "language_info": {
   "codemirror_mode": {
    "name": "ipython",
    "version": 3
   },
   "file_extension": ".py",
   "mimetype": "text/x-python",
   "name": "python",
   "nbconvert_exporter": "python",
   "pygments_lexer": "ipython3",
   "version": "3.7.6"
  }
 },
 "nbformat": 4,
 "nbformat_minor": 4
}
